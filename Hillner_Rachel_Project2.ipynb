{
 "cells": [
  {
   "cell_type": "markdown",
   "metadata": {},
   "source": [
    "# Project 2: Understanding the Significance of Covid-19 Symptoms\n",
    "Rachel Hillner & Veronica Thordardottir"
   ]
  },
  {
   "cell_type": "code",
   "execution_count": 274,
   "metadata": {},
   "outputs": [],
   "source": [
    "import csv\n",
    "import numpy as np\n",
    "import pandas as pd\n",
    "import seaborn as sn\n",
    "import matplotlib.pyplot as plt\n",
    "\n",
    "from sklearn.ensemble import BaggingClassifier\n",
    "from sklearn.ensemble import AdaBoostClassifier\n",
    "from sklearn.ensemble import RandomForestClassifier\n",
    "from sklearn.ensemble import ExtraTreesClassifier\n",
    "from sklearn.ensemble import GradientBoostingClassifier\n",
    "\n",
    "from sklearn import svm\n",
    "from sklearn.metrics import r2_score\n",
    "from sklearn.metrics import accuracy_score\n",
    "from sklearn.metrics import confusion_matrix\n",
    "from sklearn.metrics import plot_confusion_matrix\n",
    "from sklearn.metrics import classification_report\n",
    "\n",
    "from sklearn.model_selection import train_test_split\n",
    "from sklearn.inspection import permutation_importance\n",
    "from sklearn.tree import DecisionTreeClassifier, plot_tree\n",
    "\n",
    "from sklearn.neighbors import KNeighborsClassifier\n",
    "from sklearn.naive_bayes import GaussianNB\n",
    "\n",
    "\n",
    "matrix = []\n"
   ]
  },
  {
   "cell_type": "code",
   "execution_count": 291,
   "metadata": {},
   "outputs": [
    {
     "name": "stdout",
     "output_type": "stream",
     "text": [
      "max y: 1.0\n",
      "min y: 0.0\n",
      "\n",
      "y:\n",
      " 0         0.0\n",
      "1         0.0\n",
      "2         0.0\n",
      "3         0.0\n",
      "4         0.0\n",
      "         ... \n",
      "316795    0.0\n",
      "316796    0.0\n",
      "316797    1.0\n",
      "316798    1.0\n",
      "316799    1.0\n",
      "Name: Severity_None, Length: 316800, dtype: float64\n",
      "\n",
      "Covid positive if 0\n",
      "\n",
      "Training set dimensions\n",
      "(190080, 22) (190080,)\n",
      "\n",
      "Dev set dimensions\n",
      "(63360, 22) (63360,)\n",
      "\n",
      "Test set dimensions\n",
      "(63360, 22) (63360,)\n"
     ]
    }
   ],
   "source": [
    "# Import\n",
    "data = pd.read_csv('covid_data.csv')\n",
    "\n",
    "# drop irrelavent columns\n",
    "data = data.drop(['Country'], axis = 1)\n",
    "\n",
    "# Split into X (Symptoms) and y (Covid? Yes or No)\n",
    "X = data.drop(['Severity_Mild', 'Severity_Moderate', 'Severity_None', 'Severity_Severe'], axis = 1).astype(float)\n",
    "\n",
    "# splitting into classes based on whether they have covid or not\n",
    "# ignoring severity for intial testing\n",
    "y = data.iloc[:,21].astype(float)\n",
    "print('max y:', np.max(y))\n",
    "print('min y:', np.min(y))\n",
    "print('\\ny:\\n',y)\n",
    "print('\\nCovid positive if 0')\n",
    "\n",
    "# Split into train/test/dev sets\n",
    "(trainX, testX, trainY, testY) = train_test_split(X, y, test_size = 0.40, random_state = 1)\n",
    "(devX, testX, devY, testY) = train_test_split(testX, testY, test_size = 0.50, random_state = 1)\n",
    "\n",
    "print('\\nTraining set dimensions')\n",
    "print(trainX.shape, trainY.shape)\n",
    "\n",
    "print('\\nDev set dimensions')\n",
    "print(devX.shape, devY.shape)\n",
    "\n",
    "print('\\nTest set dimensions')\n",
    "print(testX.shape, testY.shape)\n",
    "\n",
    "# Defining column names, will use for feature importance\n",
    "colnames = ['Fever',  'Tiredness',  'Dry-Cough',  'Difficulty-in-Breathing',  'Sore-Throat', 'None_Sympton',  'Pains',  'Nasal-Congestion',\n",
    "            'Runny-Nose',  'Diarrhea', 'None_Experiencing',  'Contact_Dont-Know',  'Contact_No',  'Contact_Yes']"
   ]
  },
  {
   "cell_type": "code",
   "execution_count": 288,
   "metadata": {},
   "outputs": [
    {
     "name": "stdout",
     "output_type": "stream",
     "text": [
      "\n",
      "Predicted class labels:\n",
      " [0. 0. 0. ... 0. 0. 0.]\n",
      "\n",
      "True class labels:\n",
      " 139063    0.0\n",
      "295782    0.0\n",
      "102329    0.0\n",
      "146650    1.0\n",
      "117968    0.0\n",
      "         ... \n",
      "4536      0.0\n",
      "97696     0.0\n",
      "104018    0.0\n",
      "270391    0.0\n",
      "229308    0.0\n",
      "Name: Severity_None, Length: 63360, dtype: float64\n",
      "\n",
      "Classification Report:\n",
      "\n",
      "               precision    recall  f1-score   support\n",
      "\n",
      "         0.0       0.75      1.00      0.86     47545\n",
      "         1.0       0.00      0.00      0.00     15815\n",
      "\n",
      "    accuracy                           0.75     63360\n",
      "   macro avg       0.38      0.50      0.43     63360\n",
      "weighted avg       0.56      0.75      0.64     63360\n",
      "\n",
      "\n",
      "Confusion Matrix:\n",
      "\n"
     ]
    },
    {
     "name": "stderr",
     "output_type": "stream",
     "text": [
      "/opt/anaconda3/lib/python3.8/site-packages/sklearn/metrics/_classification.py:1221: UndefinedMetricWarning: Precision and F-score are ill-defined and being set to 0.0 in labels with no predicted samples. Use `zero_division` parameter to control this behavior.\n",
      "  _warn_prf(average, modifier, msg_start, len(result))\n"
     ]
    },
    {
     "data": {
      "text/plain": [
       "<AxesSubplot:>"
      ]
     },
     "execution_count": 288,
     "metadata": {},
     "output_type": "execute_result"
    },
    {
     "data": {
      "image/png": "[encoded data removed]",
      "text/plain": [
       "<Figure size 432x288 with 2 Axes>"
      ]
     },
     "metadata": {
      "needs_background": "light"
     },
     "output_type": "display_data"
    }
   ],
   "source": [
    "# predictions, Naive Bayes Classifier\n",
    "gnb = GaussianNB()\n",
    "y_pred = gnb.fit(trainX, trainY).predict(testX)\n",
    "\n",
    "# print predicted and true class labels\n",
    "print('\\nPredicted class labels:\\n', y_pred)\n",
    "print('\\nTrue class labels:\\n', testY)\n",
    "\n",
    "# print quality metrics\n",
    "print('\\nClassification Report:\\n\\n', classification_report(testY, y_pred))\n",
    "print('\\nConfusion Matrix:\\n')\n",
    "\n",
    "plt.figure()\n",
    "sn.heatmap(confusion_matrix(testY, y_pred), cmap=\"Blues\", annot = True)"
   ]
  },
  {
   "cell_type": "code",
   "execution_count": 259,
   "metadata": {},
   "outputs": [
    {
     "name": "stdout",
     "output_type": "stream",
     "text": [
      "\n",
      "Classification Report:\n",
      "\n",
      "               precision    recall  f1-score   support\n",
      "\n",
      "           0       0.75      0.85      0.80     47545\n",
      "           1       0.25      0.14      0.18     15815\n",
      "\n",
      "    accuracy                           0.68     63360\n",
      "   macro avg       0.50      0.50      0.49     63360\n",
      "weighted avg       0.62      0.68      0.64     63360\n",
      "\n",
      "\n",
      "Confusion Matrix:\n",
      "\n"
     ]
    },
    {
     "data": {
      "text/plain": [
       "<AxesSubplot:>"
      ]
     },
     "execution_count": 259,
     "metadata": {},
     "output_type": "execute_result"
    },
    {
     "data": {
      "image/png": "[encoded data removed]",
      "text/plain": [
       "<Figure size 720x504 with 2 Axes>"
      ]
     },
     "metadata": {
      "needs_background": "light"
     },
     "output_type": "display_data"
    }
   ],
   "source": [
    "# predictions, knnc\n",
    "neigh = KNeighborsClassifier(n_neighbors=3)\n",
    "neigh.fit(trainX, trainY)\n",
    "\n",
    "y_pred = neigh.predict(testX)\n",
    "\n",
    "# print quality metrics\n",
    "print('\\nClassification Report:\\n\\n', classification_report(testY, y_pred))\n",
    "print('\\nConfusion Matrix:\\n')\n",
    "\n",
    "plt.figure(figsize = (10,7))\n",
    "sn.heatmap(confusion_matrix(testY, y_pred), cmap=plt.cm.Greens, annot = True)"
   ]
  },
  {
   "cell_type": "code",
   "execution_count": 289,
   "metadata": {},
   "outputs": [
    {
     "name": "stderr",
     "output_type": "stream",
     "text": [
      "/opt/anaconda3/lib/python3.8/site-packages/sklearn/metrics/_classification.py:1221: UndefinedMetricWarning: Precision and F-score are ill-defined and being set to 0.0 in labels with no predicted samples. Use `zero_division` parameter to control this behavior.\n",
      "  _warn_prf(average, modifier, msg_start, len(result))\n"
     ]
    },
    {
     "name": "stdout",
     "output_type": "stream",
     "text": [
      "\n",
      "Training Classification Report:\n",
      "\n",
      "               precision    recall  f1-score   support\n",
      "\n",
      "         0.0       0.75      1.00      0.86    142681\n",
      "         1.0       0.00      0.00      0.00     47399\n",
      "\n",
      "    accuracy                           0.75    190080\n",
      "   macro avg       0.38      0.50      0.43    190080\n",
      "weighted avg       0.56      0.75      0.64    190080\n",
      "\n"
     ]
    },
    {
     "name": "stderr",
     "output_type": "stream",
     "text": [
      "/opt/anaconda3/lib/python3.8/site-packages/sklearn/metrics/_classification.py:1221: UndefinedMetricWarning: Precision and F-score are ill-defined and being set to 0.0 in labels with no predicted samples. Use `zero_division` parameter to control this behavior.\n",
      "  _warn_prf(average, modifier, msg_start, len(result))\n"
     ]
    },
    {
     "name": "stdout",
     "output_type": "stream",
     "text": [
      "\n",
      "Testing Classification Report:\n",
      "\n",
      "               precision    recall  f1-score   support\n",
      "\n",
      "         0.0       0.75      1.00      0.86     47545\n",
      "         1.0       0.00      0.00      0.00     15815\n",
      "\n",
      "    accuracy                           0.75     63360\n",
      "   macro avg       0.38      0.50      0.43     63360\n",
      "weighted avg       0.56      0.75      0.64     63360\n",
      "\n",
      "\n",
      "Testing Confusion Matrix:\n",
      "\n"
     ]
    },
    {
     "data": {
      "text/plain": [
       "<Figure size 432x288 with 0 Axes>"
      ]
     },
     "execution_count": 289,
     "metadata": {},
     "output_type": "execute_result"
    },
    {
     "data": {
      "image/png": "[encoded data removed]",
      "text/plain": [
       "<Figure size 432x288 with 2 Axes>"
      ]
     },
     "metadata": {
      "needs_background": "light"
     },
     "output_type": "display_data"
    },
    {
     "data": {
      "text/plain": [
       "<Figure size 432x288 with 0 Axes>"
      ]
     },
     "metadata": {},
     "output_type": "display_data"
    }
   ],
   "source": [
    "# RandomForest\n",
    "\n",
    "model = RandomForestClassifier()\n",
    "model.fit(trainX, trainY)\n",
    "\n",
    "# predict the labels of the training set\n",
    "predictedY = model.predict(trainX)\n",
    "\n",
    "# print quality metrics\n",
    "print('\\nTraining Classification Report:\\n\\n', classification_report(trainY, predictedY))\n",
    "\n",
    "# predict the labels of the test set\n",
    "predictedY = model.predict(testX)\n",
    "\n",
    "# print quality metrics\n",
    "print('\\nTesting Classification Report:\\n\\n', classification_report(testY, predictedY))\n",
    "\n",
    "# predict the labels of the test set\n",
    "predictedY = model.predict(testX)\n",
    "\n",
    "print('\\nTesting Confusion Matrix:\\n')\n",
    "\n",
    "sn.heatmap(confusion_matrix(testY, predictedY), annot = True)\n",
    "plt.figure()"
   ]
  },
  {
   "cell_type": "markdown",
   "metadata": {},
   "source": [
    "* X[3] - Difficulty-in-Breathing\n",
    "* X[7] - Nasal-Congestion\n",
    "* X[6] - Pains\n",
    "* X[9] - Diarrhea"
   ]
  },
  {
   "cell_type": "code",
   "execution_count": 256,
   "metadata": {},
   "outputs": [
    {
     "name": "stderr",
     "output_type": "stream",
     "text": [
      "/opt/anaconda3/lib/python3.8/site-packages/sklearn/metrics/_classification.py:1221: UndefinedMetricWarning: Precision and F-score are ill-defined and being set to 0.0 in labels with no predicted samples. Use `zero_division` parameter to control this behavior.\n",
      "  _warn_prf(average, modifier, msg_start, len(result))\n",
      "/opt/anaconda3/lib/python3.8/site-packages/sklearn/metrics/_classification.py:1221: UndefinedMetricWarning: Precision and F-score are ill-defined and being set to 0.0 in labels with no predicted samples. Use `zero_division` parameter to control this behavior.\n",
      "  _warn_prf(average, modifier, msg_start, len(result))\n"
     ]
    },
    {
     "name": "stdout",
     "output_type": "stream",
     "text": [
      "\n",
      "Training Classification Report:\n",
      "\n",
      "               precision    recall  f1-score   support\n",
      "\n",
      "           0       0.75      1.00      0.86    142681\n",
      "           1       0.00      0.00      0.00     47399\n",
      "\n",
      "    accuracy                           0.75    190080\n",
      "   macro avg       0.38      0.50      0.43    190080\n",
      "weighted avg       0.56      0.75      0.64    190080\n",
      "\n",
      "\n",
      "Testing Classification Report:\n",
      "\n",
      "               precision    recall  f1-score   support\n",
      "\n",
      "           0       0.75      1.00      0.86     47545\n",
      "           1       0.00      0.00      0.00     15815\n",
      "\n",
      "    accuracy                           0.75     63360\n",
      "   macro avg       0.38      0.50      0.43     63360\n",
      "weighted avg       0.56      0.75      0.64     63360\n",
      "\n",
      "\n",
      "Testing Confusion Matrix:\n",
      "\n"
     ]
    },
    {
     "data": {
      "text/plain": [
       "<Figure size 432x288 with 0 Axes>"
      ]
     },
     "execution_count": 256,
     "metadata": {},
     "output_type": "execute_result"
    },
    {
     "data": {
      "image/png": "[encoded data removed]",
      "text/plain": [
       "<Figure size 432x288 with 2 Axes>"
      ]
     },
     "metadata": {
      "needs_background": "light"
     },
     "output_type": "display_data"
    },
    {
     "data": {
      "text/plain": [
       "<Figure size 432x288 with 0 Axes>"
      ]
     },
     "metadata": {},
     "output_type": "display_data"
    }
   ],
   "source": [
    "# build the classifier using Decision Tree Classifier with 'best' alpha\n",
    "model = DecisionTreeClassifier()\n",
    "\n",
    "# fit the classifier to the training data\n",
    "model.fit(trainX, trainY)\n",
    "\n",
    "# predict the labels of the training set\n",
    "predictedY = model.predict(trainX)\n",
    "\n",
    "# print quality metrics\n",
    "print('\\nTraining Classification Report:\\n\\n', classification_report(trainY, predictedY))\n",
    "\n",
    "# predict the labels of the test set\n",
    "predictedY = model.predict(testX)\n",
    "\n",
    "# print quality metrics\n",
    "print('\\nTesting Classification Report:\\n\\n', classification_report(testY, predictedY))\n",
    "\n",
    "# predict the labels of the test set\n",
    "predictedY = model.predict(testX)\n",
    "\n",
    "print('\\nTesting Confusion Matrix:\\n')\n",
    "\n",
    "sn.heatmap(confusion_matrix(testY, predictedY), annot = True)\n",
    "plt.figure()"
   ]
  },
  {
   "cell_type": "code",
   "execution_count": 67,
   "metadata": {},
   "outputs": [
    {
     "name": "stdout",
     "output_type": "stream",
     "text": [
      "(342,)\n"
     ]
    },
    {
     "data": {
      "image/png": "[encoded data removed]",
      "text/plain": [
       "<Figure size 432x288 with 1 Axes>"
      ]
     },
     "metadata": {
      "needs_background": "light"
     },
     "output_type": "display_data"
    }
   ],
   "source": [
    "# create the classifier\n",
    "clf = DecisionTreeClassifier(random_state=0)\n",
    "\n",
    "# do cost-complexity pruning\n",
    "path = clf.cost_complexity_pruning_path(trainX, trainY)\n",
    "ccp_alphas, impurities = path.ccp_alphas, path.impurities\n",
    "\n",
    "# plotting the impurities for different alphas\n",
    "fig, ax = plt.subplots()\n",
    "ax.plot(ccp_alphas[:-1], impurities[:-1], marker='o', drawstyle=\"steps-post\")\n",
    "ax.set_xlabel(\"effective alpha\")\n",
    "ax.set_ylabel(\"total impurity of leaves\")\n",
    "ax.set_title(\"Total Impurity vs effective alpha for training set\")\n",
    "\n",
    "print(ccp_alphas.shape)"
   ]
  },
  {
   "cell_type": "code",
   "execution_count": 68,
   "metadata": {},
   "outputs": [],
   "source": [
    "clfs = []\n",
    "for ccp_alpha in ccp_alphas:\n",
    "    clf = DecisionTreeClassifier(random_state=0, ccp_alpha=ccp_alpha)\n",
    "    clf.fit(trainX, trainY)\n",
    "    clfs.append(clf)\n",
    "print(\"Number of nodes in the last tree is: {} with ccp_alpha: {}\".format(\n",
    "      clfs[-1].tree_.node_count, ccp_alphas[-1]))\n",
    "\n",
    "clfs = clfs[:-1]\n",
    "ccp_alphas = ccp_alphas\n",
    "ccp_alphas = ccp_alphas[:-1]\n",
    "\n",
    "node_counts = [clf.tree_.node_count for clf in clfs]\n",
    "depth = [clf.tree_.max_depth for clf in clfs]\n",
    "fig, ax = plt.subplots(2, 1)\n",
    "ax[0].plot(ccp_alphas, node_counts, marker='o', drawstyle=\"steps-post\")\n",
    "ax[0].set_xlabel(\"alpha\")\n",
    "ax[0].set_ylabel(\"number of nodes\")\n",
    "ax[0].set_title(\"Number of nodes vs alpha\")\n",
    "ax[1].plot(ccp_alphas, depth, marker='o', drawstyle=\"steps-post\")\n",
    "ax[1].set_xlabel(\"alpha\")\n",
    "ax[1].set_ylabel(\"depth of tree\")\n",
    "ax[1].set_title(\"Depth vs alpha\")\n",
    "fig.tight_layout()\n",
    "\n",
    "train_scores = [clf.score(trainX, trainY) for clf in clfs]\n",
    "test_scores = [clf.score(testX, testY) for clf in clfs]\n",
    "\n",
    "fig, ax = plt.subplots()\n",
    "ax.set_xlabel(\"alpha\")\n",
    "ax.set_ylabel(\"accuracy\")\n",
    "ax.set_title(\"Accuracy vs alpha for training and testing sets\")\n",
    "ax.plot(ccp_alphas, train_scores, marker='o', label=\"train\",\n",
    "        drawstyle=\"steps-post\")\n",
    "ax.plot(ccp_alphas, test_scores, marker='o', label=\"test\",\n",
    "        drawstyle=\"steps-post\")\n",
    "ax.legend()\n",
    "plt.show()\n",
    "\n",
    "# Decision Tree\n",
    "plt.figure()\n",
    "clf = DecisionTreeClassifier(ccp_alpha = 0.000003)\n",
    "tree = clf.fit(trainX, trainY)\n",
    "plot_tree(tree, filled=True)\n",
    "\n"
   ]
  },
  {
   "cell_type": "code",
   "execution_count": 139,
   "metadata": {},
   "outputs": [
    {
     "name": "stderr",
     "output_type": "stream",
     "text": [
      "/opt/anaconda3/lib/python3.8/site-packages/sklearn/metrics/_classification.py:1221: UndefinedMetricWarning: Precision and F-score are ill-defined and being set to 0.0 in labels with no predicted samples. Use `zero_division` parameter to control this behavior.\n",
      "  _warn_prf(average, modifier, msg_start, len(result))\n"
     ]
    },
    {
     "name": "stdout",
     "output_type": "stream",
     "text": [
      "\n",
      "Training Classification Report:\n",
      "\n",
      "               precision    recall  f1-score   support\n",
      "\n",
      "       False       0.00      0.00      0.00     47399\n",
      "        True       0.75      1.00      0.86    142681\n",
      "\n",
      "    accuracy                           0.75    190080\n",
      "   macro avg       0.38      0.50      0.43    190080\n",
      "weighted avg       0.56      0.75      0.64    190080\n",
      "\n"
     ]
    },
    {
     "name": "stderr",
     "output_type": "stream",
     "text": [
      "/opt/anaconda3/lib/python3.8/site-packages/sklearn/metrics/_classification.py:1221: UndefinedMetricWarning: Precision and F-score are ill-defined and being set to 0.0 in labels with no predicted samples. Use `zero_division` parameter to control this behavior.\n",
      "  _warn_prf(average, modifier, msg_start, len(result))\n"
     ]
    },
    {
     "name": "stdout",
     "output_type": "stream",
     "text": [
      "\n",
      "Testing Classification Report:\n",
      "\n",
      "               precision    recall  f1-score   support\n",
      "\n",
      "       False       0.00      0.00      0.00     15815\n",
      "        True       0.75      1.00      0.86     47545\n",
      "\n",
      "    accuracy                           0.75     63360\n",
      "   macro avg       0.38      0.50      0.43     63360\n",
      "weighted avg       0.56      0.75      0.64     63360\n",
      "\n",
      "\n",
      "Testing Confusion Matrix:\n",
      "\n"
     ]
    },
    {
     "data": {
      "text/plain": [
       "<Figure size 432x288 with 0 Axes>"
      ]
     },
     "execution_count": 139,
     "metadata": {},
     "output_type": "execute_result"
    },
    {
     "data": {
      "image/png": "[encoded data removed]",
      "text/plain": [
       "<Figure size 432x288 with 2 Axes>"
      ]
     },
     "metadata": {
      "needs_background": "light"
     },
     "output_type": "display_data"
    },
    {
     "data": {
      "text/plain": [
       "<Figure size 432x288 with 0 Axes>"
      ]
     },
     "metadata": {},
     "output_type": "display_data"
    }
   ],
   "source": [
    "# build the classifier using Decision Tree Classifier with 'best' alpha\n",
    "model = AdaBoostClassifier(base_estimator = DecisionTreeClassifier(ccp_alpha=3.5e-6))\n",
    "\n",
    "# fit the classifier to the training data\n",
    "model.fit(trainX, trainY)\n",
    "\n",
    "# predict the labels of the training set\n",
    "predictedY = model.predict(trainX)\n",
    "\n",
    "# print quality metrics\n",
    "print('\\nTraining Classification Report:\\n\\n', classification_report(trainY, predictedY))\n",
    "\n",
    "# predict the labels of the test set\n",
    "predictedY = model.predict(testX)\n",
    "\n",
    "# print quality metrics\n",
    "print('\\nTesting Classification Report:\\n\\n', classification_report(testY, predictedY))\n",
    "\n",
    "# predict the labels of the test set\n",
    "predictedY = model.predict(testX)\n",
    "\n",
    "print('\\nTesting Confusion Matrix:\\n')\n",
    "\n",
    "sn.heatmap(confusion_matrix(testY, predictedY), annot = True)\n",
    "plt.figure()"
   ]
  },
  {
   "cell_type": "code",
   "execution_count": null,
   "metadata": {},
   "outputs": [],
   "source": [
    "result = permutation_importance(model, testX, testY, n_repeats = 10, n_jobs = -1)\n",
    "sorted_idx = result.importances_mean.argsort()\n",
    "\n",
    "fig, ax = plt.subplots()\n",
    "ax.boxplot(result.importances[sorted_idx].T, vert = False, labels = cancer.feature_names[sorted_idx])\n",
    "ax.set_title(\"Permutation Importances (test set)\")\n",
    "fig.tight_layout()\n",
    "plt.show()"
   ]
  },
  {
   "cell_type": "code",
   "execution_count": null,
   "metadata": {},
   "outputs": [],
   "source": []
  },
  {
   "cell_type": "code",
   "execution_count": null,
   "metadata": {},
   "outputs": [],
   "source": []
  },
  {
   "cell_type": "markdown",
   "metadata": {},
   "source": [
    "## Based on Severity"
   ]
  },
  {
   "cell_type": "code",
   "execution_count": 213,
   "metadata": {},
   "outputs": [
    {
     "name": "stdout",
     "output_type": "stream",
     "text": [
      "        Severity_Mild  Severity_Moderate  Severity_Severe\n",
      "0                   2                  0                0\n",
      "1                   2                  0                0\n",
      "2                   2                  0                0\n",
      "3                   0                  3                0\n",
      "4                   0                  3                0\n",
      "...               ...                ...              ...\n",
      "316795              0                  0                4\n",
      "316796              0                  0                4\n",
      "316797              0                  0                0\n",
      "316798              0                  0                0\n",
      "316799              0                  0                0\n",
      "\n",
      "[316800 rows x 3 columns]\n",
      "0         2\n",
      "1         2\n",
      "2         2\n",
      "3         3\n",
      "4         3\n",
      "         ..\n",
      "316795    4\n",
      "316796    4\n",
      "316797    0\n",
      "316798    0\n",
      "316799    0\n",
      "Length: 316800, dtype: int64\n",
      "4\n",
      "0\n",
      "\n",
      "Training set dimensions\n",
      "(190080, 22) (190080,)\n",
      "\n",
      "Dev set dimensions\n",
      "(63360, 22) (63360,)\n",
      "\n",
      "Test set dimensions\n",
      "(63360, 22) (63360,)\n"
     ]
    }
   ],
   "source": [
    "# Import\n",
    "data = pd.read_csv('covid_data.csv')\n",
    "\n",
    "# drop irrelavent columns\n",
    "data = data.drop(['Country'], axis = 1)\n",
    "\n",
    "\n",
    "# splitting data into 4 classes based on severity\n",
    "data.loc[data['Severity_Mild'] == 1, 'Severity_Mild'] = 2\n",
    "data.loc[data['Severity_Moderate'] == 1, 'Severity_Moderate'] = 3\n",
    "data.loc[data['Severity_Severe'] == 1, 'Severity_Severe'] = 4\n",
    "\n",
    "# Split into X (Symptoms) and y (Covid? Yes or No)\n",
    "X = data.drop(['Severity_Mild', 'Severity_Moderate', 'Severity_Severe', ], axis = 1)\n",
    "y = data.iloc[:,19:23]\n",
    "print(X)\n",
    "\n",
    "# # splitting data into 4 classes based on severity\n",
    "# data.loc[data['Severity_Mild'] == 1, 'Severity_Mild'] = 2\n",
    "# data.loc[data['Severity_Moderate'] == 1, 'Severity_Moderate'] = 3\n",
    "# data.loc[data['Severity_Severe'] == 1, 'Severity_Severe'] = 4\n",
    "\n",
    "# y = y.query(\"Severity_None == 1\")\n",
    "\n",
    "\n",
    "\n",
    "y = y.drop(['Severity_None'], axis = 1)\n",
    "\n",
    "\n",
    "# Summing previous 4 columns by row to turn into 1 column based on severity of case \n",
    "y = data.iloc[:,20:23].sum(axis=1)\n",
    "\n",
    "# confirming the previous process worked \n",
    "print(y)\n",
    "print(max(y))\n",
    "print(min(y))\n",
    "\n",
    "# Split into train/test/dev sets\n",
    "(trainX, testX, trainY, testY) = train_test_split(X, y, test_size = 0.40, random_state = 1)\n",
    "(devX, testX, devY, testY) = train_test_split(testX, testY, test_size = 0.50, random_state = 1)\n",
    "\n",
    "print('\\nTraining set dimensions')\n",
    "print(trainX.shape, trainY.shape)\n",
    "\n",
    "print('\\nDev set dimensions')\n",
    "print(devX.shape, devY.shape)\n",
    "\n",
    "print('\\nTest set dimensions')\n",
    "print(testX.shape, testY.shape)\n",
    "\n",
    "# Defining column names, will use for feature importance\n",
    "colnames = ['Fever',  'Tiredness',  'Dry-Cough',  'Difficulty-in-Breathing',  'Sore-Throat', 'None_Sympton',  'Pains',  'Nasal-Congestion',\n",
    "            'Runny-Nose',  'Diarrhea', 'None_Experiencing',  'Contact_Dont-Know',  'Contact_No',  'Contact_Yes']"
   ]
  },
  {
   "cell_type": "code",
   "execution_count": 235,
   "metadata": {},
   "outputs": [
    {
     "name": "stdout",
     "output_type": "stream",
     "text": [
      "        Severity_Mild  Severity_Moderate  Severity_None  Severity_Severe\n",
      "0                   2                  0              0                0\n",
      "1                   2                  0              0                0\n",
      "2                   2                  0              0                0\n",
      "3                   0                  3              0                0\n",
      "4                   0                  3              0                0\n",
      "...               ...                ...            ...              ...\n",
      "316792              0                  3              0                0\n",
      "316793              0                  3              0                0\n",
      "316794              0                  0              0                4\n",
      "316795              0                  0              0                4\n",
      "316796              0                  0              0                4\n",
      "\n",
      "[237600 rows x 4 columns]\n",
      "(237600, 22)\n",
      "(237600, 3)\n",
      "        Severity_Mild  Severity_Moderate  Severity_Severe\n",
      "0                   2                  0                0\n",
      "1                   2                  0                0\n",
      "2                   2                  0                0\n",
      "3                   0                  3                0\n",
      "4                   0                  3                0\n",
      "...               ...                ...              ...\n",
      "316792              0                  3                0\n",
      "316793              0                  3                0\n",
      "316794              0                  0                4\n",
      "316795              0                  0                4\n",
      "316796              0                  0                4\n",
      "\n",
      "[237600 rows x 3 columns]\n",
      "0         2\n",
      "1         2\n",
      "2         2\n",
      "3         3\n",
      "4         3\n",
      "         ..\n",
      "316792    3\n",
      "316793    3\n",
      "316794    4\n",
      "316795    4\n",
      "316796    4\n",
      "Length: 237600, dtype: int64\n",
      "4\n",
      "2\n",
      "\n",
      "Training set dimensions\n",
      "(142560, 22) (142560,)\n",
      "\n",
      "Dev set dimensions\n",
      "(47520, 22) (47520,)\n",
      "\n",
      "Test set dimensions\n",
      "(47520, 22) (47520,)\n"
     ]
    }
   ],
   "source": [
    "# Import\n",
    "data = pd.read_csv('covid_data.csv')\n",
    "\n",
    "# drop irrelavent columns\n",
    "data = data.drop(['Country'], axis = 1)\n",
    "\n",
    "# splitting data into 4 classes based on severity\n",
    "data.loc[data['Severity_Mild'] == 1, 'Severity_Mild'] = 2\n",
    "data.loc[data['Severity_Moderate'] == 1, 'Severity_Moderate'] = 3\n",
    "data.loc[data['Severity_Severe'] == 1, 'Severity_Severe'] = 4\n",
    "\n",
    "\n",
    "# Split into X (Symptoms) and y (Covid? Yes or No)\n",
    "X = data[data['Severity_None'] < 1]\n",
    "y = data[data['Severity_None'] < 1]\n",
    "\n",
    "\n",
    "X = X.drop(['Severity_Mild', 'Severity_Moderate', 'Severity_Severe', 'Severity_None'], axis = 1)\n",
    "y = y.iloc[:,19:23]\n",
    "print(y)\n",
    "y = y.drop(['Severity_None'], axis = 1)\n",
    "\n",
    "print(X.shape)\n",
    "print(y.shape)\n",
    "\n",
    "# data = data.reset_index(drop=True)\n",
    "\n",
    "print(y)\n",
    "\n",
    "\n",
    "# Summing previous 4 columns by row to turn into 1 column based on severity of case \n",
    "y = y.sum(axis=1)\n",
    "y = y[y > 1]\n",
    "# confirming the previous process worked \n",
    "print(y)\n",
    "print(max(y))\n",
    "print(min(y))\n",
    "\n",
    "# Split into train/test/dev sets\n",
    "(trainX, testX, trainY, testY) = train_test_split(X, y, test_size = 0.40, random_state = 1)\n",
    "(devX, testX, devY, testY) = train_test_split(testX, testY, test_size = 0.50, random_state = 1)\n",
    "\n",
    "print('\\nTraining set dimensions')\n",
    "print(trainX.shape, trainY.shape)\n",
    "\n",
    "print('\\nDev set dimensions')\n",
    "print(devX.shape, devY.shape)\n",
    "\n",
    "print('\\nTest set dimensions')\n",
    "print(testX.shape, testY.shape)\n"
   ]
  },
  {
   "cell_type": "code",
   "execution_count": 122,
   "metadata": {},
   "outputs": [
    {
     "data": {
      "text/plain": [
       "[Text(167.4, 195.696, 'X[3] <= 0.5\\ngini = 0.75\\nsamples = 190080\\nvalue = [47399, 47583, 47528, 47570]'),\n",
       " Text(103.01538461538462, 152.208, 'X[12] <= 0.5\\ngini = 0.75\\nsamples = 94887\\nvalue = [23550, 23795, 23844, 23698]'),\n",
       " Text(77.26153846153846, 108.72, 'X[9] <= 0.5\\ngini = 0.75\\nsamples = 75913\\nvalue = [18934, 19013, 19035, 18931]'),\n",
       " Text(51.50769230769231, 65.232, 'X[19] <= 0.5\\ngini = 0.75\\nsamples = 48389\\nvalue = [11995, 12171, 12175, 12048]'),\n",
       " Text(25.753846153846155, 21.744, 'gini = 0.75\\nsamples = 32320\\nvalue = [8090, 8089, 8123, 8018]'),\n",
       " Text(77.26153846153846, 21.744, 'gini = 0.75\\nsamples = 16069\\nvalue = [3905, 4082, 4052, 4030]'),\n",
       " Text(103.01538461538462, 65.232, 'gini = 0.75\\nsamples = 27524\\nvalue = [6939, 6842, 6860, 6883]'),\n",
       " Text(128.76923076923077, 108.72, 'gini = 0.75\\nsamples = 18974\\nvalue = [4616, 4782, 4809, 4767]'),\n",
       " Text(231.7846153846154, 152.208, 'X[4] <= 0.5\\ngini = 0.75\\nsamples = 95193\\nvalue = [23849, 23788, 23684, 23872]'),\n",
       " Text(180.27692307692308, 108.72, 'X[7] <= 0.5\\ngini = 0.75\\nsamples = 47571\\nvalue = [11934, 11786, 11833, 12018]'),\n",
       " Text(154.52307692307693, 65.232, 'gini = 0.75\\nsamples = 21678\\nvalue = [5488, 5325, 5364, 5501]'),\n",
       " Text(206.03076923076924, 65.232, 'gini = 0.75\\nsamples = 25893\\nvalue = [6446, 6461, 6469, 6517]'),\n",
       " Text(283.2923076923077, 108.72, 'X[11] <= 0.5\\ngini = 0.75\\nsamples = 47622\\nvalue = [11915, 12002, 11851, 11854]'),\n",
       " Text(257.53846153846155, 65.232, 'gini = 0.75\\nsamples = 38106\\nvalue = [9478, 9661, 9458, 9509]'),\n",
       " Text(309.04615384615386, 65.232, 'gini = 0.75\\nsamples = 9516\\nvalue = [2437, 2341, 2393, 2345]')]"
      ]
     },
     "execution_count": 122,
     "metadata": {},
     "output_type": "execute_result"
    },
    {
     "data": {
      "image/png": "[encoded data removed]",
      "text/plain": [
       "<Figure size 432x288 with 1 Axes>"
      ]
     },
     "metadata": {
      "needs_background": "light"
     },
     "output_type": "display_data"
    }
   ],
   "source": [
    "# Decision Tree\n",
    "plt.figure()\n",
    "clf = DecisionTreeClassifier(min_samples_split=40000)\n",
    "tree = clf.fit(trainX, trainY)\n",
    "plot_tree(tree, filled=True)"
   ]
  },
  {
   "cell_type": "markdown",
   "metadata": {},
   "source": [
    "* X[3] - Difficulty in Breathing\n",
    "* X[12] - Age 10-19\n",
    "* X[9] - Diarrhea"
   ]
  },
  {
   "cell_type": "code",
   "execution_count": 237,
   "metadata": {},
   "outputs": [
    {
     "data": {
      "text/plain": [
       "[Text(186.0, 190.26, 'X[18] <= 0.5\\ngini = 0.667\\nsamples = 142560\\nvalue = [47578, 47505, 47477]'),\n",
       " Text(111.60000000000001, 135.9, 'X[6] <= 0.5\\ngini = 0.667\\nsamples = 95022\\nvalue = [31622, 31828, 31572]'),\n",
       " Text(74.4, 81.53999999999999, 'X[1] <= 0.5\\ngini = 0.667\\nsamples = 60458\\nvalue = [20226, 20219, 20013]'),\n",
       " Text(37.2, 27.180000000000007, 'gini = 0.667\\nsamples = 30169\\nvalue = [10147, 10105, 9917]'),\n",
       " Text(111.60000000000001, 27.180000000000007, 'gini = 0.667\\nsamples = 30289\\nvalue = [10079, 10114, 10096]'),\n",
       " Text(148.8, 81.53999999999999, 'gini = 0.667\\nsamples = 34564\\nvalue = [11396, 11609, 11559]'),\n",
       " Text(260.40000000000003, 135.9, 'X[15] <= 0.5\\ngini = 0.667\\nsamples = 47538\\nvalue = [15956, 15677, 15905]'),\n",
       " Text(223.20000000000002, 81.53999999999999, 'gini = 0.667\\nsamples = 38112\\nvalue = [12814, 12495, 12803]'),\n",
       " Text(297.6, 81.53999999999999, 'gini = 0.667\\nsamples = 9426\\nvalue = [3142, 3182, 3102]')]"
      ]
     },
     "execution_count": 237,
     "metadata": {},
     "output_type": "execute_result"
    },
    {
     "data": {
      "image/png": "[encoded data removed]",
      "text/plain": [
       "<Figure size 432x288 with 1 Axes>"
      ]
     },
     "metadata": {
      "needs_background": "light"
     },
     "output_type": "display_data"
    }
   ],
   "source": [
    "# Decision Tree\n",
    "plt.figure()\n",
    "clf = DecisionTreeClassifier(min_samples_split=40000)\n",
    "tree = clf.fit(trainX, trainY)\n",
    "plot_tree(tree, filled=True)"
   ]
  },
  {
   "cell_type": "code",
   "execution_count": 127,
   "metadata": {},
   "outputs": [
    {
     "name": "stdout",
     "output_type": "stream",
     "text": [
      "(5066,)\n"
     ]
    },
    {
     "data": {
      "image/png": "[encoded data removed]",
      "text/plain": [
       "<Figure size 432x288 with 1 Axes>"
      ]
     },
     "metadata": {
      "needs_background": "light"
     },
     "output_type": "display_data"
    }
   ],
   "source": [
    "# create the classifier\n",
    "clf = DecisionTreeClassifier(random_state=0)\n",
    "\n",
    "# do cost-complexity pruning\n",
    "path = clf.cost_complexity_pruning_path(trainX, trainY)\n",
    "ccp_alphas, impurities = path.ccp_alphas, path.impurities\n",
    "\n",
    "# plotting the impurities for different alphas\n",
    "fig, ax = plt.subplots()\n",
    "ax.plot(ccp_alphas[:-1], impurities[:-1], marker='o', drawstyle=\"steps-post\")\n",
    "ax.set_xlabel(\"effective alpha\")\n",
    "ax.set_ylabel(\"total impurity of leaves\")\n",
    "ax.set_title(\"Total Impurity vs effective alpha for training set\")\n",
    "\n",
    "print(ccp_alphas.shape)"
   ]
  },
  {
   "cell_type": "code",
   "execution_count": 128,
   "metadata": {},
   "outputs": [
    {
     "name": "stdout",
     "output_type": "stream",
     "text": [
      "Number of nodes in the last tree is: 1 with ccp_alpha: 4.881067273971256e-06\n"
     ]
    }
   ],
   "source": [
    "clfs = []\n",
    "for ccp_alpha in ccp_alphas[4900:5067]:\n",
    "    clf = DecisionTreeClassifier(random_state=0, ccp_alpha=ccp_alpha)\n",
    "    clf.fit(trainX, trainY)\n",
    "    clfs.append(clf)\n",
    "print(\"Number of nodes in the last tree is: {} with ccp_alpha: {}\".format(\n",
    "      clfs[-1].tree_.node_count, ccp_alphas[-1]))"
   ]
  },
  {
   "cell_type": "code",
   "execution_count": 129,
   "metadata": {},
   "outputs": [
    {
     "data": {
      "image/png": "[encoded data removed]",
      "text/plain": [
       "<Figure size 432x288 with 2 Axes>"
      ]
     },
     "metadata": {
      "needs_background": "light"
     },
     "output_type": "display_data"
    }
   ],
   "source": [
    "clfs = clfs[:-1]\n",
    "ccp_alphas = ccp_alphas[4900:5067]\n",
    "ccp_alphas = ccp_alphas[:-1]\n",
    "\n",
    "node_counts = [clf.tree_.node_count for clf in clfs]\n",
    "depth = [clf.tree_.max_depth for clf in clfs]\n",
    "fig, ax = plt.subplots(2, 1)\n",
    "ax[0].plot(ccp_alphas, node_counts, marker='o', drawstyle=\"steps-post\")\n",
    "ax[0].set_xlabel(\"alpha\")\n",
    "ax[0].set_ylabel(\"number of nodes\")\n",
    "ax[0].set_title(\"Number of nodes vs alpha\")\n",
    "ax[1].plot(ccp_alphas, depth, marker='o', drawstyle=\"steps-post\")\n",
    "ax[1].set_xlabel(\"alpha\")\n",
    "ax[1].set_ylabel(\"depth of tree\")\n",
    "ax[1].set_title(\"Depth vs alpha\")\n",
    "fig.tight_layout()"
   ]
  },
  {
   "cell_type": "code",
   "execution_count": 130,
   "metadata": {},
   "outputs": [
    {
     "data": {
      "image/png": "[encoded data removed]",
      "text/plain": [
       "<Figure size 432x288 with 1 Axes>"
      ]
     },
     "metadata": {
      "needs_background": "light"
     },
     "output_type": "display_data"
    }
   ],
   "source": [
    "train_scores = [clf.score(trainX, trainY) for clf in clfs]\n",
    "test_scores = [clf.score(testX, testY) for clf in clfs]\n",
    "\n",
    "fig, ax = plt.subplots()\n",
    "ax.set_xlabel(\"alpha\")\n",
    "ax.set_ylabel(\"accuracy\")\n",
    "ax.set_title(\"Accuracy vs alpha for training and testing sets\")\n",
    "ax.plot(ccp_alphas, train_scores, marker='o', label=\"train\",\n",
    "        drawstyle=\"steps-post\")\n",
    "ax.plot(ccp_alphas, test_scores, marker='o', label=\"test\",\n",
    "        drawstyle=\"steps-post\")\n",
    "ax.legend()\n",
    "plt.show()"
   ]
  },
  {
   "cell_type": "code",
   "execution_count": 135,
   "metadata": {},
   "outputs": [
    {
     "data": {
      "text/plain": [
       "[Text(155.44285714285715, 203.85, 'X[3] <= 0.5\\ngini = 0.75\\nsamples = 190080\\nvalue = [47399, 47583, 47528, 47570]'),\n",
       " Text(131.52857142857144, 176.67000000000002, 'gini = 0.75\\nsamples = 94887\\nvalue = [23550, 23795, 23844, 23698]'),\n",
       " Text(179.35714285714286, 176.67000000000002, 'X[4] <= 0.5\\ngini = 0.75\\nsamples = 95193\\nvalue = [23849, 23788, 23684, 23872]'),\n",
       " Text(119.57142857142857, 149.49, 'X[7] <= 0.5\\ngini = 0.75\\nsamples = 47571\\nvalue = [11934, 11786, 11833, 12018]'),\n",
       " Text(95.65714285714286, 122.31, 'X[20] <= 0.5\\ngini = 0.75\\nsamples = 21678\\nvalue = [5488, 5325, 5364, 5501]'),\n",
       " Text(47.82857142857143, 95.13, 'X[0] <= 0.5\\ngini = 0.75\\nsamples = 14466\\nvalue = [3708, 3584, 3528, 3646]'),\n",
       " Text(23.914285714285715, 67.94999999999999, 'gini = 0.75\\nsamples = 10863\\nvalue = [2761, 2721, 2648, 2733]'),\n",
       " Text(71.74285714285715, 67.94999999999999, 'X[14] <= 0.5\\ngini = 0.75\\nsamples = 3603\\nvalue = [947, 863, 880, 913]'),\n",
       " Text(47.82857142857143, 40.77000000000001, 'X[8] <= 0.5\\ngini = 0.75\\nsamples = 2895\\nvalue = [761, 681, 728, 725]'),\n",
       " Text(23.914285714285715, 13.590000000000003, 'gini = 0.75\\nsamples = 1713\\nvalue = [440, 409, 450, 414]'),\n",
       " Text(71.74285714285715, 13.590000000000003, 'gini = 0.749\\nsamples = 1182\\nvalue = [321, 272, 278, 311]'),\n",
       " Text(95.65714285714286, 40.77000000000001, 'gini = 0.748\\nsamples = 708\\nvalue = [186, 182, 152, 188]'),\n",
       " Text(143.4857142857143, 95.13, 'X[1] <= 0.5\\ngini = 0.75\\nsamples = 7212\\nvalue = [1780, 1741, 1836, 1855]'),\n",
       " Text(119.57142857142857, 67.94999999999999, 'gini = 0.75\\nsamples = 3612\\nvalue = [918, 855, 926, 913]'),\n",
       " Text(167.4, 67.94999999999999, 'X[17] <= 0.5\\ngini = 0.75\\nsamples = 3600\\nvalue = [862, 886, 910, 942]'),\n",
       " Text(143.4857142857143, 40.77000000000001, 'gini = 0.749\\nsamples = 2362\\nvalue = [543, 600, 590, 629]'),\n",
       " Text(191.31428571428572, 40.77000000000001, 'X[13] <= 0.5\\ngini = 0.75\\nsamples = 1238\\nvalue = [319, 286, 320, 313]'),\n",
       " Text(167.4, 13.590000000000003, 'gini = 0.75\\nsamples = 981\\nvalue = [250, 229, 244, 258]'),\n",
       " Text(215.22857142857143, 13.590000000000003, 'gini = 0.745\\nsamples = 257\\nvalue = [69, 57, 76, 55]'),\n",
       " Text(143.4857142857143, 122.31, 'gini = 0.75\\nsamples = 25893\\nvalue = [6446, 6461, 6469, 6517]'),\n",
       " Text(239.14285714285714, 149.49, 'X[11] <= 0.5\\ngini = 0.75\\nsamples = 47622\\nvalue = [11915, 12002, 11851, 11854]'),\n",
       " Text(215.22857142857143, 122.31, 'gini = 0.75\\nsamples = 38106\\nvalue = [9478, 9661, 9458, 9509]'),\n",
       " Text(263.0571428571429, 122.31, 'X[6] <= 0.5\\ngini = 0.75\\nsamples = 9516\\nvalue = [2437, 2341, 2393, 2345]'),\n",
       " Text(239.14285714285714, 95.13, 'X[19] <= 0.5\\ngini = 0.75\\nsamples = 6092\\nvalue = [1587, 1464, 1551, 1490]'),\n",
       " Text(215.22857142857143, 67.94999999999999, 'gini = 0.75\\nsamples = 4108\\nvalue = [1096, 987, 1023, 1002]'),\n",
       " Text(263.0571428571429, 67.94999999999999, 'X[16] <= 0.5\\ngini = 0.75\\nsamples = 1984\\nvalue = [491, 477, 528, 488]'),\n",
       " Text(239.14285714285714, 40.77000000000001, 'gini = 0.749\\nsamples = 1287\\nvalue = [321, 305, 358, 303]'),\n",
       " Text(286.9714285714286, 40.77000000000001, 'X[8] <= 0.5\\ngini = 0.75\\nsamples = 697\\nvalue = [170, 172, 170, 185]'),\n",
       " Text(263.0571428571429, 13.590000000000003, 'gini = 0.747\\nsamples = 299\\nvalue = [64, 71, 78, 86]'),\n",
       " Text(310.8857142857143, 13.590000000000003, 'gini = 0.749\\nsamples = 398\\nvalue = [106, 101, 92, 99]'),\n",
       " Text(286.9714285714286, 95.13, 'gini = 0.75\\nsamples = 3424\\nvalue = [850, 877, 842, 855]')]"
      ]
     },
     "execution_count": 135,
     "metadata": {},
     "output_type": "execute_result"
    },
    {
     "data": {
      "image/png": "[encoded data removed]",
      "text/plain": [
       "<Figure size 432x288 with 1 Axes>"
      ]
     },
     "metadata": {
      "needs_background": "light"
     },
     "output_type": "display_data"
    }
   ],
   "source": [
    "# Decision Tree with the chosen alpha\n",
    "plt.figure()\n",
    "clf = DecisionTreeClassifier(ccp_alpha=4.7e-6)\n",
    "tree = clf.fit(trainX, trainY)\n",
    "plot_tree(tree, filled=True)"
   ]
  },
  {
   "cell_type": "code",
   "execution_count": null,
   "metadata": {},
   "outputs": [],
   "source": []
  },
  {
   "cell_type": "code",
   "execution_count": 136,
   "metadata": {},
   "outputs": [
    {
     "name": "stdout",
     "output_type": "stream",
     "text": [
      "\n",
      "Training Classification Report:\n",
      "\n",
      "               precision    recall  f1-score   support\n",
      "\n",
      "           1       0.26      0.17      0.20     47399\n",
      "           2       0.26      0.32      0.29     47583\n",
      "           3       0.26      0.22      0.24     47528\n",
      "           4       0.26      0.33      0.29     47570\n",
      "\n",
      "    accuracy                           0.26    190080\n",
      "   macro avg       0.26      0.26      0.25    190080\n",
      "weighted avg       0.26      0.26      0.25    190080\n",
      "\n",
      "\n",
      "Testing Classification Report:\n",
      "\n",
      "               precision    recall  f1-score   support\n",
      "\n",
      "           1       0.23      0.15      0.18     15815\n",
      "           2       0.24      0.31      0.27     15848\n",
      "           3       0.24      0.19      0.21     16051\n",
      "           4       0.24      0.31      0.27     15646\n",
      "\n",
      "    accuracy                           0.24     63360\n",
      "   macro avg       0.24      0.24      0.23     63360\n",
      "weighted avg       0.24      0.24      0.23     63360\n",
      "\n",
      "\n",
      "Testing Confusion Matrix:\n",
      "\n"
     ]
    },
    {
     "data": {
      "text/plain": [
       "<Figure size 432x288 with 0 Axes>"
      ]
     },
     "execution_count": 136,
     "metadata": {},
     "output_type": "execute_result"
    },
    {
     "data": {
      "image/png": "[encoded data removed]",
      "text/plain": [
       "<Figure size 432x288 with 2 Axes>"
      ]
     },
     "metadata": {
      "needs_background": "light"
     },
     "output_type": "display_data"
    },
    {
     "data": {
      "text/plain": [
       "<Figure size 432x288 with 0 Axes>"
      ]
     },
     "metadata": {},
     "output_type": "display_data"
    }
   ],
   "source": [
    "# build the classifier using Decision Tree Classifier with 'best' alpha\n",
    "model = AdaBoostClassifier(base_estimator = DecisionTreeClassifier(ccp_alpha=4.7e-6))\n",
    "\n",
    "# fit the classifier to the training data\n",
    "model.fit(trainX, trainY)\n",
    "\n",
    "# predict the labels of the training set\n",
    "predictedY = model.predict(trainX)\n",
    "\n",
    "# print quality metrics\n",
    "print('\\nTraining Classification Report:\\n\\n', classification_report(trainY, predictedY))\n",
    "\n",
    "# predict the labels of the test set\n",
    "predictedY = model.predict(testX)\n",
    "\n",
    "# print quality metrics\n",
    "print('\\nTesting Classification Report:\\n\\n', classification_report(testY, predictedY))\n",
    "\n",
    "# predict the labels of the test set\n",
    "predictedY = model.predict(testX)\n",
    "\n",
    "print('\\nTesting Confusion Matrix:\\n')\n",
    "\n",
    "sn.heatmap(confusion_matrix(testY, predictedY), annot = True)\n",
    "plt.figure()"
   ]
  },
  {
   "cell_type": "code",
   "execution_count": null,
   "metadata": {},
   "outputs": [],
   "source": []
  },
  {
   "cell_type": "code",
   "execution_count": 137,
   "metadata": {},
   "outputs": [
    {
     "name": "stdout",
     "output_type": "stream",
     "text": [
      "\n",
      "Training Classification Report:\n",
      "\n",
      "               precision    recall  f1-score   support\n",
      "\n",
      "           1       0.31      0.31      0.31     47399\n",
      "           2       0.31      0.32      0.32     47583\n",
      "           3       0.31      0.31      0.31     47528\n",
      "           4       0.31      0.32      0.32     47570\n",
      "\n",
      "    accuracy                           0.31    190080\n",
      "   macro avg       0.31      0.31      0.31    190080\n",
      "weighted avg       0.31      0.31      0.31    190080\n",
      "\n",
      "\n",
      "Testing Classification Report:\n",
      "\n",
      "               precision    recall  f1-score   support\n",
      "\n",
      "           1       0.15      0.15      0.15     15815\n",
      "           2       0.15      0.16      0.16     15848\n",
      "           3       0.15      0.15      0.15     16051\n",
      "           4       0.15      0.15      0.15     15646\n",
      "\n",
      "    accuracy                           0.15     63360\n",
      "   macro avg       0.15      0.15      0.15     63360\n",
      "weighted avg       0.15      0.15      0.15     63360\n",
      "\n",
      "\n",
      "Testing Confusion Matrix:\n",
      "\n"
     ]
    },
    {
     "data": {
      "text/plain": [
       "<Figure size 432x288 with 0 Axes>"
      ]
     },
     "execution_count": 137,
     "metadata": {},
     "output_type": "execute_result"
    },
    {
     "data": {
      "image/png": "[encoded data removed]",
      "text/plain": [
       "<Figure size 432x288 with 2 Axes>"
      ]
     },
     "metadata": {
      "needs_background": "light"
     },
     "output_type": "display_data"
    },
    {
     "data": {
      "text/plain": [
       "<Figure size 432x288 with 0 Axes>"
      ]
     },
     "metadata": {},
     "output_type": "display_data"
    }
   ],
   "source": [
    "# build the classifier\n",
    "model = BaggingClassifier(base_estimator = DecisionTreeClassifier(ccp_alpha=4.7e-6), n_estimators = 100)\n",
    "\n",
    "# fit the classifier to the training data\n",
    "model.fit(trainX, trainY)\n",
    "\n",
    "# predict the labels of the training set\n",
    "predictedY = model.predict(trainX)\n",
    "\n",
    "# print quality metrics\n",
    "print('\\nTraining Classification Report:\\n\\n', classification_report(trainY, predictedY))\n",
    "\n",
    "# predict the labels of the test set\n",
    "predictedY = model.predict(testX)\n",
    "\n",
    "# print quality metrics\n",
    "print('\\nTesting Classification Report:\\n\\n', classification_report(testY, predictedY))\n",
    "\n",
    "# predict the labels of the test set\n",
    "predictedY = model.predict(testX)\n",
    "\n",
    "print('\\nTesting Confusion Matrix:\\n')\n",
    "\n",
    "sn.heatmap(confusion_matrix(testY, predictedY), annot = True)\n",
    "plt.figure()"
   ]
  },
  {
   "cell_type": "code",
   "execution_count": null,
   "metadata": {},
   "outputs": [],
   "source": []
  },
  {
   "cell_type": "code",
   "execution_count": null,
   "metadata": {},
   "outputs": [],
   "source": []
  },
  {
   "cell_type": "code",
   "execution_count": 209,
   "metadata": {},
   "outputs": [
    {
     "name": "stdout",
     "output_type": "stream",
     "text": [
      "[ 0.  1.  2.  3.  4.  5.  6.  7.  8.  9. 10. 11. 12. 13. 14. 15. 16. 17.\n",
      " 18. 19. 20. 21.]\n"
     ]
    }
   ],
   "source": [
    "col = np.zeros(22)\n",
    "for i in range (len(col)):\n",
    "    col[i] = 0 + i\n",
    "print(col)"
   ]
  },
  {
   "cell_type": "code",
   "execution_count": 236,
   "metadata": {},
   "outputs": [
    {
     "name": "stdout",
     "output_type": "stream",
     "text": [
      "        Fever  Tiredness  Dry-Cough  Difficulty-in-Breathing  Sore-Throat  \\\n",
      "0           1          1          1                        1            1   \n",
      "1           1          1          1                        1            1   \n",
      "2           1          1          1                        1            1   \n",
      "3           1          1          1                        1            1   \n",
      "4           1          1          1                        1            1   \n",
      "...       ...        ...        ...                      ...          ...   \n",
      "316795      0          0          0                        0            0   \n",
      "316796      0          0          0                        0            0   \n",
      "316797      0          0          0                        0            0   \n",
      "316798      0          0          0                        0            0   \n",
      "316799      0          0          0                        0            0   \n",
      "\n",
      "        None_Sympton  Pains  Nasal-Congestion  Runny-Nose  Diarrhea  ...  \\\n",
      "0                  0      1                 1           1         1  ...   \n",
      "1                  0      1                 1           1         1  ...   \n",
      "2                  0      1                 1           1         1  ...   \n",
      "3                  0      1                 1           1         1  ...   \n",
      "4                  0      1                 1           1         1  ...   \n",
      "...              ...    ...               ...         ...       ...  ...   \n",
      "316795             1      0                 0           0         0  ...   \n",
      "316796             1      0                 0           0         0  ...   \n",
      "316797             1      0                 0           0         0  ...   \n",
      "316798             1      0                 0           0         0  ...   \n",
      "316799             1      0                 0           0         0  ...   \n",
      "\n",
      "        Gender_Female  Gender_Male  Gender_Transgender  Severity_Mild  \\\n",
      "0                   0            1                   0              2   \n",
      "1                   0            1                   0              2   \n",
      "2                   0            1                   0              2   \n",
      "3                   0            1                   0              0   \n",
      "4                   0            1                   0              0   \n",
      "...               ...          ...                 ...            ...   \n",
      "316795              0            0                   1              0   \n",
      "316796              0            0                   1              0   \n",
      "316797              0            0                   1              0   \n",
      "316798              0            0                   1              0   \n",
      "316799              0            0                   1              0   \n",
      "\n",
      "        Severity_Moderate  Severity_None  Severity_Severe  Contact_Dont-Know  \\\n",
      "0                       0              0                0                  0   \n",
      "1                       0              0                0                  0   \n",
      "2                       0              0                0                  1   \n",
      "3                       3              0                0                  0   \n",
      "4                       3              0                0                  0   \n",
      "...                   ...            ...              ...                ...   \n",
      "316795                  0              0                4                  0   \n",
      "316796                  0              0                4                  1   \n",
      "316797                  0              1                0                  0   \n",
      "316798                  0              1                0                  0   \n",
      "316799                  0              1                0                  1   \n",
      "\n",
      "        Contact_No  Contact_Yes  \n",
      "0                0            1  \n",
      "1                1            0  \n",
      "2                0            0  \n",
      "3                0            1  \n",
      "4                1            0  \n",
      "...            ...          ...  \n",
      "316795           1            0  \n",
      "316796           0            0  \n",
      "316797           0            1  \n",
      "316798           1            0  \n",
      "316799           0            0  \n",
      "\n",
      "[316800 rows x 26 columns]\n"
     ]
    }
   ],
   "source": [
    "print(data)"
   ]
  },
  {
   "cell_type": "code",
   "execution_count": null,
   "metadata": {},
   "outputs": [],
   "source": []
  },
  {
   "cell_type": "code",
   "execution_count": 238,
   "metadata": {},
   "outputs": [
    {
     "name": "stdout",
     "output_type": "stream",
     "text": [
      "(5027,)\n"
     ]
    },
    {
     "data": {
      "image/png": "[encoded data removed]",
      "text/plain": [
       "<Figure size 432x288 with 1 Axes>"
      ]
     },
     "metadata": {
      "needs_background": "light"
     },
     "output_type": "display_data"
    }
   ],
   "source": [
    "# create the classifier\n",
    "clf = DecisionTreeClassifier(random_state=0)\n",
    "\n",
    "# do cost-complexity pruning\n",
    "path = clf.cost_complexity_pruning_path(trainX, trainY)\n",
    "ccp_alphas, impurities = path.ccp_alphas, path.impurities\n",
    "\n",
    "# plotting the impurities for different alphas\n",
    "fig, ax = plt.subplots()\n",
    "ax.plot(ccp_alphas[:-1], impurities[:-1], marker='o', drawstyle=\"steps-post\")\n",
    "ax.set_xlabel(\"effective alpha\")\n",
    "ax.set_ylabel(\"total impurity of leaves\")\n",
    "ax.set_title(\"Total Impurity vs effective alpha for training set\")\n",
    "\n",
    "print(ccp_alphas.shape)"
   ]
  },
  {
   "cell_type": "code",
   "execution_count": 239,
   "metadata": {},
   "outputs": [
    {
     "name": "stdout",
     "output_type": "stream",
     "text": [
      "Number of nodes in the last tree is: 1 with ccp_alpha: 8.964284362145136e-06\n"
     ]
    }
   ],
   "source": [
    "clfs = []\n",
    "for ccp_alpha in ccp_alphas[4900:5067]:\n",
    "    clf = DecisionTreeClassifier(random_state=0, ccp_alpha=ccp_alpha)\n",
    "    clf.fit(trainX, trainY)\n",
    "    clfs.append(clf)\n",
    "print(\"Number of nodes in the last tree is: {} with ccp_alpha: {}\".format(\n",
    "      clfs[-1].tree_.node_count, ccp_alphas[-1]))"
   ]
  },
  {
   "cell_type": "code",
   "execution_count": 240,
   "metadata": {},
   "outputs": [
    {
     "data": {
      "image/png": "[encoded data removed]",
      "text/plain": [
       "<Figure size 432x288 with 2 Axes>"
      ]
     },
     "metadata": {
      "needs_background": "light"
     },
     "output_type": "display_data"
    }
   ],
   "source": [
    "clfs = clfs[:-1]\n",
    "ccp_alphas = ccp_alphas[4900:5067]\n",
    "ccp_alphas = ccp_alphas[:-1]\n",
    "\n",
    "node_counts = [clf.tree_.node_count for clf in clfs]\n",
    "depth = [clf.tree_.max_depth for clf in clfs]\n",
    "fig, ax = plt.subplots(2, 1)\n",
    "ax[0].plot(ccp_alphas, node_counts, marker='o', drawstyle=\"steps-post\")\n",
    "ax[0].set_xlabel(\"alpha\")\n",
    "ax[0].set_ylabel(\"number of nodes\")\n",
    "ax[0].set_title(\"Number of nodes vs alpha\")\n",
    "ax[1].plot(ccp_alphas, depth, marker='o', drawstyle=\"steps-post\")\n",
    "ax[1].set_xlabel(\"alpha\")\n",
    "ax[1].set_ylabel(\"depth of tree\")\n",
    "ax[1].set_title(\"Depth vs alpha\")\n",
    "fig.tight_layout()"
   ]
  },
  {
   "cell_type": "code",
   "execution_count": 241,
   "metadata": {},
   "outputs": [
    {
     "data": {
      "image/png": "[encoded data removed]",
      "text/plain": [
       "<Figure size 432x288 with 1 Axes>"
      ]
     },
     "metadata": {
      "needs_background": "light"
     },
     "output_type": "display_data"
    }
   ],
   "source": [
    "train_scores = [clf.score(trainX, trainY) for clf in clfs]\n",
    "test_scores = [clf.score(testX, testY) for clf in clfs]\n",
    "\n",
    "fig, ax = plt.subplots()\n",
    "ax.set_xlabel(\"alpha\")\n",
    "ax.set_ylabel(\"accuracy\")\n",
    "ax.set_title(\"Accuracy vs alpha for training and testing sets\")\n",
    "ax.plot(ccp_alphas, train_scores, marker='o', label=\"train\",\n",
    "        drawstyle=\"steps-post\")\n",
    "ax.plot(ccp_alphas, test_scores, marker='o', label=\"test\",\n",
    "        drawstyle=\"steps-post\")\n",
    "ax.legend()\n",
    "plt.show()"
   ]
  },
  {
   "cell_type": "code",
   "execution_count": 242,
   "metadata": {},
   "outputs": [
    {
     "data": {
      "text/plain": [
       "[Text(133.92000000000002, 181.2, 'X[18] <= 0.5\\ngini = 0.667\\nsamples = 142560\\nvalue = [47578, 47505, 47477]'),\n",
       " Text(66.96000000000001, 108.72, 'gini = 0.667\\nsamples = 95022\\nvalue = [31622, 31828, 31572]'),\n",
       " Text(200.88000000000002, 108.72, 'X[15] <= 0.5\\ngini = 0.667\\nsamples = 47538\\nvalue = [15956, 15677, 15905]'),\n",
       " Text(133.92000000000002, 36.23999999999998, 'gini = 0.667\\nsamples = 38112\\nvalue = [12814, 12495, 12803]'),\n",
       " Text(267.84000000000003, 36.23999999999998, 'gini = 0.667\\nsamples = 9426\\nvalue = [3142, 3182, 3102]')]"
      ]
     },
     "execution_count": 242,
     "metadata": {},
     "output_type": "execute_result"
    },
    {
     "data": {
      "image/png": "[encoded data removed]",
      "text/plain": [
       "<Figure size 432x288 with 1 Axes>"
      ]
     },
     "metadata": {
      "needs_background": "light"
     },
     "output_type": "display_data"
    }
   ],
   "source": [
    "# Decision Tree with the chosen alpha\n",
    "plt.figure()\n",
    "clf = DecisionTreeClassifier(ccp_alpha=7.3e-6)\n",
    "tree = clf.fit(trainX, trainY)\n",
    "plot_tree(tree, filled=True)"
   ]
  },
  {
   "cell_type": "code",
   "execution_count": 244,
   "metadata": {},
   "outputs": [
    {
     "name": "stdout",
     "output_type": "stream",
     "text": [
      "\n",
      "Training Classification Report:\n",
      "\n",
      "               precision    recall  f1-score   support\n",
      "\n",
      "           2       0.34      0.28      0.31     47578\n",
      "           3       0.34      0.53      0.41     47505\n",
      "           4       0.34      0.20      0.25     47477\n",
      "\n",
      "    accuracy                           0.34    142560\n",
      "   macro avg       0.34      0.34      0.32    142560\n",
      "weighted avg       0.34      0.34      0.32    142560\n",
      "\n",
      "\n",
      "Testing Classification Report:\n",
      "\n",
      "               precision    recall  f1-score   support\n",
      "\n",
      "           2       0.32      0.27      0.29     15732\n",
      "           3       0.33      0.52      0.40     15877\n",
      "           4       0.32      0.18      0.23     15911\n",
      "\n",
      "    accuracy                           0.32     47520\n",
      "   macro avg       0.32      0.32      0.31     47520\n",
      "weighted avg       0.32      0.32      0.31     47520\n",
      "\n",
      "\n",
      "Testing Confusion Matrix:\n",
      "\n"
     ]
    },
    {
     "data": {
      "text/plain": [
       "<Figure size 432x288 with 0 Axes>"
      ]
     },
     "execution_count": 244,
     "metadata": {},
     "output_type": "execute_result"
    },
    {
     "data": {
      "image/png": "[encoded data removed]",
      "text/plain": [
       "<Figure size 432x288 with 2 Axes>"
      ]
     },
     "metadata": {
      "needs_background": "light"
     },
     "output_type": "display_data"
    },
    {
     "data": {
      "text/plain": [
       "<Figure size 432x288 with 0 Axes>"
      ]
     },
     "metadata": {},
     "output_type": "display_data"
    }
   ],
   "source": [
    "# build the classifier using Decision Tree Classifier with 'best' alpha\n",
    "model = AdaBoostClassifier(base_estimator = DecisionTreeClassifier(ccp_alpha=7.3e-6))\n",
    "\n",
    "# fit the classifier to the training data\n",
    "model.fit(trainX, trainY)\n",
    "\n",
    "# predict the labels of the training set\n",
    "predictedY = model.predict(trainX)\n",
    "\n",
    "# print quality metrics\n",
    "print('\\nTraining Classification Report:\\n\\n', classification_report(trainY, predictedY))\n",
    "\n",
    "# predict the labels of the test set\n",
    "predictedY = model.predict(testX)\n",
    "\n",
    "# print quality metrics\n",
    "print('\\nTesting Classification Report:\\n\\n', classification_report(testY, predictedY))\n",
    "\n",
    "# predict the labels of the test set\n",
    "predictedY = model.predict(testX)\n",
    "\n",
    "print('\\nTesting Confusion Matrix:\\n')\n",
    "\n",
    "sn.heatmap(confusion_matrix(testY, predictedY), annot = True)\n",
    "plt.figure()"
   ]
  },
  {
   "cell_type": "code",
   "execution_count": null,
   "metadata": {},
   "outputs": [],
   "source": []
  },
  {
   "cell_type": "code",
   "execution_count": null,
   "metadata": {},
   "outputs": [],
   "source": []
  },
  {
   "cell_type": "code",
   "execution_count": null,
   "metadata": {},
   "outputs": [],
   "source": []
  }
 ],
 "metadata": {
  "kernelspec": {
   "display_name": "Python 3",
   "language": "python",
   "name": "python3"
  },
  "language_info": {
   "codemirror_mode": {
    "name": "ipython",
    "version": 3
   },
   "file_extension": ".py",
   "mimetype": "text/x-python",
   "name": "python",
   "nbconvert_exporter": "python",
   "pygments_lexer": "ipython3",
   "version": "3.8.5"
  }
 },
 "nbformat": 4,
 "nbformat_minor": 4
}
